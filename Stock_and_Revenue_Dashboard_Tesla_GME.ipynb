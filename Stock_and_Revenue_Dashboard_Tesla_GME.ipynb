{
 "cells": [
  {
   "cell_type": "markdown",
   "id": "74931d56",
   "metadata": {},
   "source": [
    "# 📊 Stock & Revenue Analysis: Tesla and GameStop\n",
    "*A project from the RFix Finance & Data Science Collection*\n",
    "\n",
    "---\n",
    "\n",
    "### 🔎 Overview\n",
    "This notebook explores and visualizes the **stock price trends** and **revenue data** of two iconic companies:  \n",
    "- **Tesla (TSLA)**, a leader in electric vehicles.  \n",
    "- **GameStop (GME)**, known for its retail business and famous short squeeze episode.  \n",
    "\n",
    "The analysis includes:  \n",
    "- Extracting stock data using `yfinance`  \n",
    "- Scraping revenue data from online sources  \n",
    "- Building simple dashboards to compare stock prices and revenues  \n",
    "\n",
    "This project was originally a lab assignment of *Python Project for Data Science* but has been extended and polished as part of the **RFix repository**, showcasing practical applications of **Python in finance**.  \n",
    "\n",
    "---\n",
    "\n",
    "📅 *Date:* October 2025  \n",
    "👩‍💻 *Author:* Pansuriya Foram Rasikbhai  \n",
    "📂 *Repository:* [RFix](https://github.com/pansuriyaForam/RFiX)"
   ]
  },
  {
   "cell_type": "markdown",
   "id": "92d463a4",
   "metadata": {},
   "source": [
    "## 🎯 Project Objectives\n",
    "\n",
    "This project focuses on combining **financial data extraction**, **web scraping**, and **data visualization** to gain insights into company performance.  \n",
    "\n",
    "Specifically, the objectives are:  \n",
    "\n",
    "1. **Collect Historical Stock Data**  \n",
    "   - Retrieve long-term stock price data for Tesla (TSLA) and GameStop (GME) using `yfinance`.  \n",
    "\n",
    "2. **Collect Revenue Data**  \n",
    "   - Extract and clean quarterly revenue data for both companies using web scraping.  \n",
    "\n",
    "3. **Explore Data Trends**  \n",
    "   - Perform initial exploration of stock and revenue datasets.  \n",
    "   - Identify growth patterns and anomalies.  \n",
    "\n",
    "4. **Build Dashboards**  \n",
    "   - Create interactive visualizations combining stock price and revenue.  \n",
    "   - Compare Tesla and GameStop performance side by side.  \n",
    "\n",
    "5. **Generate Insights**  \n",
    "   - Highlight key findings (e.g., growth trajectories, volatility).  \n",
    "   - Relate stock movements to revenue trends.  \n",
    "\n",
    "6. **Provide Reusable Framework**  \n",
    "   - Document the workflow clearly so the same approach can be applied to other companies in future RFix projects.  \n"
   ]
  },
  {
   "cell_type": "markdown",
   "id": "ab8b5baf",
   "metadata": {},
   "source": [
    "## ⚙️ Setup & Dependencies\n",
    "\n",
    "This project is implemented in **Python** and requires the following libraries:\n",
    "\n",
    "- **yfinance** → Fetch historical stock price data.  \n",
    "- **pandas** → Data handling and manipulation.  \n",
    "- **matplotlib** → Visualization of stock prices and revenues.  \n",
    "- **BeautifulSoup4** → Web scraping for revenue data.  \n",
    "- **lxml** → Parsing HTML for structured data extraction.  \n",
    "- **requests** → Handling HTTP requests for scraping.  \n",
    "\n",
    "Before running the notebook, ensure the libraries are installed:\n"
   ]
  },
  {
   "cell_type": "code",
   "execution_count": 2,
   "id": "27a498be",
   "metadata": {},
   "outputs": [
    {
     "name": "stderr",
     "output_type": "stream",
     "text": [
      "\n",
      "[notice] A new release of pip is available: 24.0 -> 25.2\n",
      "[notice] To update, run: C:\\Users\\Foram\\AppData\\Local\\Microsoft\\WindowsApps\\PythonSoftwareFoundation.Python.3.11_qbz5n2kfra8p0\\python.exe -m pip install --upgrade pip\n"
     ]
    },
    {
     "name": "stdout",
     "output_type": "stream",
     "text": [
      "Requirement already satisfied: yfinance in c:\\users\\foram\\appdata\\local\\packages\\pythonsoftwarefoundation.python.3.11_qbz5n2kfra8p0\\localcache\\local-packages\\python311\\site-packages (0.2.66)\n",
      "Requirement already satisfied: beautifulsoup4 in c:\\users\\foram\\appdata\\local\\packages\\pythonsoftwarefoundation.python.3.11_qbz5n2kfra8p0\\localcache\\local-packages\\python311\\site-packages (4.14.2)\n",
      "Requirement already satisfied: pandas in c:\\users\\foram\\appdata\\local\\packages\\pythonsoftwarefoundation.python.3.11_qbz5n2kfra8p0\\localcache\\local-packages\\python311\\site-packages (2.3.3)\n",
      "Requirement already satisfied: matplotlib in c:\\users\\foram\\appdata\\local\\packages\\pythonsoftwarefoundation.python.3.11_qbz5n2kfra8p0\\localcache\\local-packages\\python311\\site-packages (3.10.6)\n",
      "Requirement already satisfied: lxml in c:\\users\\foram\\appdata\\local\\packages\\pythonsoftwarefoundation.python.3.11_qbz5n2kfra8p0\\localcache\\local-packages\\python311\\site-packages (6.0.2)\n",
      "Requirement already satisfied: numpy>=1.16.5 in c:\\users\\foram\\appdata\\local\\packages\\pythonsoftwarefoundation.python.3.11_qbz5n2kfra8p0\\localcache\\local-packages\\python311\\site-packages (from yfinance) (2.3.3)\n",
      "Requirement already satisfied: requests>=2.31 in c:\\users\\foram\\appdata\\local\\packages\\pythonsoftwarefoundation.python.3.11_qbz5n2kfra8p0\\localcache\\local-packages\\python311\\site-packages (from yfinance) (2.32.5)\n",
      "Requirement already satisfied: multitasking>=0.0.7 in c:\\users\\foram\\appdata\\local\\packages\\pythonsoftwarefoundation.python.3.11_qbz5n2kfra8p0\\localcache\\local-packages\\python311\\site-packages (from yfinance) (0.0.12)\n",
      "Requirement already satisfied: platformdirs>=2.0.0 in c:\\users\\foram\\appdata\\local\\packages\\pythonsoftwarefoundation.python.3.11_qbz5n2kfra8p0\\localcache\\local-packages\\python311\\site-packages (from yfinance) (4.4.0)\n",
      "Requirement already satisfied: pytz>=2022.5 in c:\\users\\foram\\appdata\\local\\packages\\pythonsoftwarefoundation.python.3.11_qbz5n2kfra8p0\\localcache\\local-packages\\python311\\site-packages (from yfinance) (2025.2)\n",
      "Requirement already satisfied: frozendict>=2.3.4 in c:\\users\\foram\\appdata\\local\\packages\\pythonsoftwarefoundation.python.3.11_qbz5n2kfra8p0\\localcache\\local-packages\\python311\\site-packages (from yfinance) (2.4.6)\n",
      "Requirement already satisfied: peewee>=3.16.2 in c:\\users\\foram\\appdata\\local\\packages\\pythonsoftwarefoundation.python.3.11_qbz5n2kfra8p0\\localcache\\local-packages\\python311\\site-packages (from yfinance) (3.18.2)\n",
      "Requirement already satisfied: curl_cffi>=0.7 in c:\\users\\foram\\appdata\\local\\packages\\pythonsoftwarefoundation.python.3.11_qbz5n2kfra8p0\\localcache\\local-packages\\python311\\site-packages (from yfinance) (0.13.0)\n",
      "Requirement already satisfied: protobuf>=3.19.0 in c:\\users\\foram\\appdata\\local\\packages\\pythonsoftwarefoundation.python.3.11_qbz5n2kfra8p0\\localcache\\local-packages\\python311\\site-packages (from yfinance) (6.32.1)\n",
      "Requirement already satisfied: websockets>=13.0 in c:\\users\\foram\\appdata\\local\\packages\\pythonsoftwarefoundation.python.3.11_qbz5n2kfra8p0\\localcache\\local-packages\\python311\\site-packages (from yfinance) (15.0.1)\n",
      "Requirement already satisfied: soupsieve>1.2 in c:\\users\\foram\\appdata\\local\\packages\\pythonsoftwarefoundation.python.3.11_qbz5n2kfra8p0\\localcache\\local-packages\\python311\\site-packages (from beautifulsoup4) (2.8)\n",
      "Requirement already satisfied: typing-extensions>=4.0.0 in c:\\users\\foram\\appdata\\local\\packages\\pythonsoftwarefoundation.python.3.11_qbz5n2kfra8p0\\localcache\\local-packages\\python311\\site-packages (from beautifulsoup4) (4.15.0)\n",
      "Requirement already satisfied: python-dateutil>=2.8.2 in c:\\users\\foram\\appdata\\local\\packages\\pythonsoftwarefoundation.python.3.11_qbz5n2kfra8p0\\localcache\\local-packages\\python311\\site-packages (from pandas) (2.9.0.post0)\n",
      "Requirement already satisfied: tzdata>=2022.7 in c:\\users\\foram\\appdata\\local\\packages\\pythonsoftwarefoundation.python.3.11_qbz5n2kfra8p0\\localcache\\local-packages\\python311\\site-packages (from pandas) (2025.2)\n",
      "Requirement already satisfied: contourpy>=1.0.1 in c:\\users\\foram\\appdata\\local\\packages\\pythonsoftwarefoundation.python.3.11_qbz5n2kfra8p0\\localcache\\local-packages\\python311\\site-packages (from matplotlib) (1.3.3)\n",
      "Requirement already satisfied: cycler>=0.10 in c:\\users\\foram\\appdata\\local\\packages\\pythonsoftwarefoundation.python.3.11_qbz5n2kfra8p0\\localcache\\local-packages\\python311\\site-packages (from matplotlib) (0.12.1)\n",
      "Requirement already satisfied: fonttools>=4.22.0 in c:\\users\\foram\\appdata\\local\\packages\\pythonsoftwarefoundation.python.3.11_qbz5n2kfra8p0\\localcache\\local-packages\\python311\\site-packages (from matplotlib) (4.60.1)\n",
      "Requirement already satisfied: kiwisolver>=1.3.1 in c:\\users\\foram\\appdata\\local\\packages\\pythonsoftwarefoundation.python.3.11_qbz5n2kfra8p0\\localcache\\local-packages\\python311\\site-packages (from matplotlib) (1.4.9)\n",
      "Requirement already satisfied: packaging>=20.0 in c:\\users\\foram\\appdata\\local\\packages\\pythonsoftwarefoundation.python.3.11_qbz5n2kfra8p0\\localcache\\local-packages\\python311\\site-packages (from matplotlib) (25.0)\n",
      "Requirement already satisfied: pillow>=8 in c:\\users\\foram\\appdata\\local\\packages\\pythonsoftwarefoundation.python.3.11_qbz5n2kfra8p0\\localcache\\local-packages\\python311\\site-packages (from matplotlib) (11.3.0)\n",
      "Requirement already satisfied: pyparsing>=2.3.1 in c:\\users\\foram\\appdata\\local\\packages\\pythonsoftwarefoundation.python.3.11_qbz5n2kfra8p0\\localcache\\local-packages\\python311\\site-packages (from matplotlib) (3.2.5)\n",
      "Requirement already satisfied: cffi>=1.12.0 in c:\\users\\foram\\appdata\\local\\packages\\pythonsoftwarefoundation.python.3.11_qbz5n2kfra8p0\\localcache\\local-packages\\python311\\site-packages (from curl_cffi>=0.7->yfinance) (2.0.0)\n",
      "Requirement already satisfied: certifi>=2024.2.2 in c:\\users\\foram\\appdata\\local\\packages\\pythonsoftwarefoundation.python.3.11_qbz5n2kfra8p0\\localcache\\local-packages\\python311\\site-packages (from curl_cffi>=0.7->yfinance) (2025.8.3)\n",
      "Requirement already satisfied: six>=1.5 in c:\\users\\foram\\appdata\\local\\packages\\pythonsoftwarefoundation.python.3.11_qbz5n2kfra8p0\\localcache\\local-packages\\python311\\site-packages (from python-dateutil>=2.8.2->pandas) (1.17.0)\n",
      "Requirement already satisfied: charset_normalizer<4,>=2 in c:\\users\\foram\\appdata\\local\\packages\\pythonsoftwarefoundation.python.3.11_qbz5n2kfra8p0\\localcache\\local-packages\\python311\\site-packages (from requests>=2.31->yfinance) (3.4.3)\n",
      "Requirement already satisfied: idna<4,>=2.5 in c:\\users\\foram\\appdata\\local\\packages\\pythonsoftwarefoundation.python.3.11_qbz5n2kfra8p0\\localcache\\local-packages\\python311\\site-packages (from requests>=2.31->yfinance) (3.10)\n",
      "Requirement already satisfied: urllib3<3,>=1.21.1 in c:\\users\\foram\\appdata\\local\\packages\\pythonsoftwarefoundation.python.3.11_qbz5n2kfra8p0\\localcache\\local-packages\\python311\\site-packages (from requests>=2.31->yfinance) (2.5.0)\n",
      "Requirement already satisfied: pycparser in c:\\users\\foram\\appdata\\local\\packages\\pythonsoftwarefoundation.python.3.11_qbz5n2kfra8p0\\localcache\\local-packages\\python311\\site-packages (from cffi>=1.12.0->curl_cffi>=0.7->yfinance) (2.23)\n"
     ]
    }
   ],
   "source": [
    "!pip install yfinance beautifulsoup4 pandas matplotlib lxml\n",
    "\n",
    "import yfinance as yf\n",
    "import pandas as pd\n",
    "import warnings\n",
    "from bs4 import BeautifulSoup, XMLParsedAsHTMLWarning\n",
    "import requests\n",
    "import matplotlib.pyplot as plt\n",
    "import re"
   ]
  },
  {
   "cell_type": "markdown",
   "id": "72f11c84",
   "metadata": {},
   "source": [
    "## 📈 Tesla Stock Data\n",
    "\n",
    "We begin by extracting Tesla’s historical stock data using `yfinance`.  \n",
    "The dataset provides daily prices, trading volume, and other metrics.  \n",
    "\n",
    "Steps:  \n",
    "- Fetch data using `yf.Ticker(\"TSLA\")`  \n",
    "- Retrieve the full trading history with `.history(period=\"max\")`  \n",
    "- Preview the dataset (head, tail, shape)  "
   ]
  },
  {
   "cell_type": "code",
   "execution_count": 3,
   "id": "5f3f4d10",
   "metadata": {},
   "outputs": [
    {
     "data": {
      "text/html": [
       "<div>\n",
       "<style scoped>\n",
       "    .dataframe tbody tr th:only-of-type {\n",
       "        vertical-align: middle;\n",
       "    }\n",
       "\n",
       "    .dataframe tbody tr th {\n",
       "        vertical-align: top;\n",
       "    }\n",
       "\n",
       "    .dataframe thead th {\n",
       "        text-align: right;\n",
       "    }\n",
       "</style>\n",
       "<table border=\"1\" class=\"dataframe\">\n",
       "  <thead>\n",
       "    <tr style=\"text-align: right;\">\n",
       "      <th></th>\n",
       "      <th>Date</th>\n",
       "      <th>Open</th>\n",
       "      <th>High</th>\n",
       "      <th>Low</th>\n",
       "      <th>Close</th>\n",
       "      <th>Volume</th>\n",
       "      <th>Dividends</th>\n",
       "      <th>Stock Splits</th>\n",
       "    </tr>\n",
       "  </thead>\n",
       "  <tbody>\n",
       "    <tr>\n",
       "      <th>0</th>\n",
       "      <td>2010-06-29 00:00:00-04:00</td>\n",
       "      <td>1.266667</td>\n",
       "      <td>1.666667</td>\n",
       "      <td>1.169333</td>\n",
       "      <td>1.592667</td>\n",
       "      <td>281494500</td>\n",
       "      <td>0.0</td>\n",
       "      <td>0.0</td>\n",
       "    </tr>\n",
       "    <tr>\n",
       "      <th>1</th>\n",
       "      <td>2010-06-30 00:00:00-04:00</td>\n",
       "      <td>1.719333</td>\n",
       "      <td>2.028000</td>\n",
       "      <td>1.553333</td>\n",
       "      <td>1.588667</td>\n",
       "      <td>257806500</td>\n",
       "      <td>0.0</td>\n",
       "      <td>0.0</td>\n",
       "    </tr>\n",
       "    <tr>\n",
       "      <th>2</th>\n",
       "      <td>2010-07-01 00:00:00-04:00</td>\n",
       "      <td>1.666667</td>\n",
       "      <td>1.728000</td>\n",
       "      <td>1.351333</td>\n",
       "      <td>1.464000</td>\n",
       "      <td>123282000</td>\n",
       "      <td>0.0</td>\n",
       "      <td>0.0</td>\n",
       "    </tr>\n",
       "    <tr>\n",
       "      <th>3</th>\n",
       "      <td>2010-07-02 00:00:00-04:00</td>\n",
       "      <td>1.533333</td>\n",
       "      <td>1.540000</td>\n",
       "      <td>1.247333</td>\n",
       "      <td>1.280000</td>\n",
       "      <td>77097000</td>\n",
       "      <td>0.0</td>\n",
       "      <td>0.0</td>\n",
       "    </tr>\n",
       "    <tr>\n",
       "      <th>4</th>\n",
       "      <td>2010-07-06 00:00:00-04:00</td>\n",
       "      <td>1.333333</td>\n",
       "      <td>1.333333</td>\n",
       "      <td>1.055333</td>\n",
       "      <td>1.074000</td>\n",
       "      <td>103003500</td>\n",
       "      <td>0.0</td>\n",
       "      <td>0.0</td>\n",
       "    </tr>\n",
       "  </tbody>\n",
       "</table>\n",
       "</div>"
      ],
      "text/plain": [
       "                       Date      Open      High       Low     Close  \\\n",
       "0 2010-06-29 00:00:00-04:00  1.266667  1.666667  1.169333  1.592667   \n",
       "1 2010-06-30 00:00:00-04:00  1.719333  2.028000  1.553333  1.588667   \n",
       "2 2010-07-01 00:00:00-04:00  1.666667  1.728000  1.351333  1.464000   \n",
       "3 2010-07-02 00:00:00-04:00  1.533333  1.540000  1.247333  1.280000   \n",
       "4 2010-07-06 00:00:00-04:00  1.333333  1.333333  1.055333  1.074000   \n",
       "\n",
       "      Volume  Dividends  Stock Splits  \n",
       "0  281494500        0.0           0.0  \n",
       "1  257806500        0.0           0.0  \n",
       "2  123282000        0.0           0.0  \n",
       "3   77097000        0.0           0.0  \n",
       "4  103003500        0.0           0.0  "
      ]
     },
     "execution_count": 3,
     "metadata": {},
     "output_type": "execute_result"
    }
   ],
   "source": [
    "tesla = yf.Ticker(\"TSLA\")\n",
    "tesla_data = tesla.history(period=\"max\")\n",
    "tesla_data.reset_index(inplace=True)\n",
    "tesla_data.head()"
   ]
  },
  {
   "cell_type": "markdown",
   "id": "15107b14",
   "metadata": {},
   "source": [
    "## 💰 Tesla Revenue Data\n",
    "\n",
    "Quarterly revenue data is collected by web scraping from publicly available financial reports.  \n",
    "After extraction, the dataset is cleaned to ensure consistent formatting for analysis.  \n"
   ]
  },
  {
   "cell_type": "code",
   "execution_count": 4,
   "id": "2928bedc",
   "metadata": {},
   "outputs": [
    {
     "name": "stdout",
     "output_type": "stream",
     "text": [
      "✅ Found Tesla revenue (preview):\n",
      "    Tesla Annual Revenue (Millions of US $)  \\\n",
      "8                                      2013   \n",
      "9                                      2012   \n",
      "10                                     2011   \n",
      "11                                     2010   \n",
      "12                                     2009   \n",
      "\n",
      "   Tesla Annual Revenue (Millions of US $).1  \n",
      "8                                     $2,013  \n",
      "9                                       $413  \n",
      "10                                      $204  \n",
      "11                                      $117  \n",
      "12                                      $112  \n"
     ]
    },
    {
     "name": "stderr",
     "output_type": "stream",
     "text": [
      "C:\\Users\\Foram\\AppData\\Local\\Temp\\ipykernel_28952\\132592952.py:17: FutureWarning: Passing literal html to 'read_html' is deprecated and will be removed in a future version. To read from a literal string, wrap it in a 'StringIO' object.\n",
      "  candidate_tables = pd.read_html(html)\n"
     ]
    }
   ],
   "source": [
    "import warnings\n",
    "from bs4 import BeautifulSoup, XMLParsedAsHTMLWarning\n",
    "import requests\n",
    "import pandas as pd\n",
    "\n",
    "warnings.filterwarnings(\"ignore\", category=XMLParsedAsHTMLWarning)\n",
    "\n",
    "url = \"https://cf-courses-data.s3.us.cloud-object-storage.appdomain.cloud/IBMDeveloperSkillsNetwork-PY0220EN-SkillsNetwork/labs/project/revenue.htm\"\n",
    "\n",
    "respond = requests.get(url)\n",
    "respond.raise_for_status()   # will raise if URL still wrong\n",
    "html = respond.text\n",
    "soup = BeautifulSoup(html, \"html.parser\")\n",
    "\n",
    "# 1) pandas' HTML table parser (quick)\n",
    "try:\n",
    "    candidate_tables = pd.read_html(html)\n",
    "except Exception:\n",
    "    candidate_tables = []\n",
    "\n",
    "tesla_revenue = None\n",
    "\n",
    "# 2) Search candidate tables for a Revenue-like column\n",
    "for df in candidate_tables:\n",
    "    cols = [str(c).lower() for c in df.columns]\n",
    "    if any(\"revenue\" in c for c in cols) or any(\"tesla\" in str(v).lower() for v in df.values.flatten() if isinstance(v, str)):\n",
    "        tesla_revenue = df.copy()\n",
    "        break\n",
    "\n",
    "# 3) FALLBACK: parse plain text block \"Tesla Quarterly Revenue\"\n",
    "if tesla_revenue is None:\n",
    "    text = soup.get_text(separator=\"\\n\")\n",
    "    start_idx = text.find(\"Tesla Quarterly Revenue\")\n",
    "    if start_idx != -1:\n",
    "        # take a chunk after that header (adjust length if necessary)\n",
    "        block = text[start_idx:start_idx + 8000]\n",
    "        # matches lines like: 2022-09-30 $21,454  OR 2022-09-30 21,454\n",
    "        matches = re.findall(r\"(\\d{4}-\\d{2}-\\d{2})\\s+\\$?([\\d,]+)\", block)\n",
    "        if matches:\n",
    "            tesla_revenue = pd.DataFrame(matches, columns=[\"Date\", \"Revenue\"])\n",
    "            tesla_revenue[\"Revenue\"] = tesla_revenue[\"Revenue\"].str.replace(\",\", \"\").astype(int)\n",
    "            # optional: convert Date to datetime\n",
    "            tesla_revenue[\"Date\"] = pd.to_datetime(tesla_revenue[\"Date\"])\n",
    "\n",
    "if tesla_revenue is not None:\n",
    "    print(\"✅ Found Tesla revenue (preview):\")\n",
    "    print(tesla_revenue.tail())\n",
    "else:\n",
    "    print(\"❌ Tesla Revenue DataFrame not found. (Checked pd.read_html and text fallback)\")"
   ]
  },
  {
   "cell_type": "markdown",
   "id": "e3fefe21",
   "metadata": {},
   "source": [
    "## 📈 GameStop Stock Data\n",
    "\n",
    "Next, we collect historical stock price data for GameStop (GME) using the same approach as Tesla.  \n",
    "This ensures comparability between the two companies.  "
   ]
  },
  {
   "cell_type": "code",
   "execution_count": 5,
   "id": "782a3fdd",
   "metadata": {},
   "outputs": [
    {
     "data": {
      "text/html": [
       "<div>\n",
       "<style scoped>\n",
       "    .dataframe tbody tr th:only-of-type {\n",
       "        vertical-align: middle;\n",
       "    }\n",
       "\n",
       "    .dataframe tbody tr th {\n",
       "        vertical-align: top;\n",
       "    }\n",
       "\n",
       "    .dataframe thead th {\n",
       "        text-align: right;\n",
       "    }\n",
       "</style>\n",
       "<table border=\"1\" class=\"dataframe\">\n",
       "  <thead>\n",
       "    <tr style=\"text-align: right;\">\n",
       "      <th></th>\n",
       "      <th>Date</th>\n",
       "      <th>Open</th>\n",
       "      <th>High</th>\n",
       "      <th>Low</th>\n",
       "      <th>Close</th>\n",
       "      <th>Volume</th>\n",
       "      <th>Dividends</th>\n",
       "      <th>Stock Splits</th>\n",
       "    </tr>\n",
       "  </thead>\n",
       "  <tbody>\n",
       "    <tr>\n",
       "      <th>0</th>\n",
       "      <td>2002-02-13 00:00:00-05:00</td>\n",
       "      <td>1.620128</td>\n",
       "      <td>1.693350</td>\n",
       "      <td>1.603296</td>\n",
       "      <td>1.691666</td>\n",
       "      <td>76216000</td>\n",
       "      <td>0.0</td>\n",
       "      <td>0.0</td>\n",
       "    </tr>\n",
       "    <tr>\n",
       "      <th>1</th>\n",
       "      <td>2002-02-14 00:00:00-05:00</td>\n",
       "      <td>1.712707</td>\n",
       "      <td>1.716074</td>\n",
       "      <td>1.670626</td>\n",
       "      <td>1.683250</td>\n",
       "      <td>11021600</td>\n",
       "      <td>0.0</td>\n",
       "      <td>0.0</td>\n",
       "    </tr>\n",
       "    <tr>\n",
       "      <th>2</th>\n",
       "      <td>2002-02-15 00:00:00-05:00</td>\n",
       "      <td>1.683250</td>\n",
       "      <td>1.687458</td>\n",
       "      <td>1.658002</td>\n",
       "      <td>1.674834</td>\n",
       "      <td>8389600</td>\n",
       "      <td>0.0</td>\n",
       "      <td>0.0</td>\n",
       "    </tr>\n",
       "    <tr>\n",
       "      <th>3</th>\n",
       "      <td>2002-02-19 00:00:00-05:00</td>\n",
       "      <td>1.666418</td>\n",
       "      <td>1.666418</td>\n",
       "      <td>1.578047</td>\n",
       "      <td>1.607504</td>\n",
       "      <td>7410400</td>\n",
       "      <td>0.0</td>\n",
       "      <td>0.0</td>\n",
       "    </tr>\n",
       "    <tr>\n",
       "      <th>4</th>\n",
       "      <td>2002-02-20 00:00:00-05:00</td>\n",
       "      <td>1.615920</td>\n",
       "      <td>1.662210</td>\n",
       "      <td>1.603296</td>\n",
       "      <td>1.662210</td>\n",
       "      <td>6892800</td>\n",
       "      <td>0.0</td>\n",
       "      <td>0.0</td>\n",
       "    </tr>\n",
       "  </tbody>\n",
       "</table>\n",
       "</div>"
      ],
      "text/plain": [
       "                       Date      Open      High       Low     Close    Volume  \\\n",
       "0 2002-02-13 00:00:00-05:00  1.620128  1.693350  1.603296  1.691666  76216000   \n",
       "1 2002-02-14 00:00:00-05:00  1.712707  1.716074  1.670626  1.683250  11021600   \n",
       "2 2002-02-15 00:00:00-05:00  1.683250  1.687458  1.658002  1.674834   8389600   \n",
       "3 2002-02-19 00:00:00-05:00  1.666418  1.666418  1.578047  1.607504   7410400   \n",
       "4 2002-02-20 00:00:00-05:00  1.615920  1.662210  1.603296  1.662210   6892800   \n",
       "\n",
       "   Dividends  Stock Splits  \n",
       "0        0.0           0.0  \n",
       "1        0.0           0.0  \n",
       "2        0.0           0.0  \n",
       "3        0.0           0.0  \n",
       "4        0.0           0.0  "
      ]
     },
     "execution_count": 5,
     "metadata": {},
     "output_type": "execute_result"
    }
   ],
   "source": [
    "gme = yf.Ticker(\"GME\")\n",
    "gme_data = gme.history(period=\"max\")\n",
    "\n",
    "gme_data.reset_index(inplace=True)\n",
    "gme_data.head()"
   ]
  },
  {
   "cell_type": "markdown",
   "id": "10fa806c",
   "metadata": {},
   "source": [
    "## 💰 GameStop Revenue Data\n",
    "\n",
    "Quarterly revenue data for GameStop is extracted and cleaned using web scraping.  \n",
    "Together with stock data, this will allow us to build combined dashboards for insights.  \n"
   ]
  },
  {
   "cell_type": "code",
   "execution_count": 6,
   "id": "317f1a25",
   "metadata": {},
   "outputs": [
    {
     "name": "stdout",
     "output_type": "stream",
     "text": [
      "✅ Found GME revenue (preview):\n",
      "    Tesla Annual Revenue (Millions of US $)  \\\n",
      "8                                      2013   \n",
      "9                                      2012   \n",
      "10                                     2011   \n",
      "11                                     2010   \n",
      "12                                     2009   \n",
      "\n",
      "   Tesla Annual Revenue (Millions of US $).1  \n",
      "8                                     $2,013  \n",
      "9                                       $413  \n",
      "10                                      $204  \n",
      "11                                      $117  \n",
      "12                                      $112  \n"
     ]
    },
    {
     "name": "stderr",
     "output_type": "stream",
     "text": [
      "C:\\Users\\Foram\\AppData\\Local\\Temp\\ipykernel_28952\\2974379998.py:9: FutureWarning: Passing literal html to 'read_html' is deprecated and will be removed in a future version. To read from a literal string, wrap it in a 'StringIO' object.\n",
      "  candidate_tables = pd.read_html(html_data)\n"
     ]
    }
   ],
   "source": [
    "warnings.filterwarnings(\"ignore\", category=XMLParsedAsHTMLWarning)\n",
    "\n",
    "url = \"https://cf-courses-data.s3.us.cloud-object-storage.appdomain.cloud/IBMDeveloperSkillsNetwork-PY0220EN-SkillsNetwork/labs/project/revenue.htm\"\n",
    "html_data = requests.get(url).text\n",
    "soup = BeautifulSoup(html_data, 'html.parser')\n",
    "\n",
    "# Try to find the GME revenue table using pandas\n",
    "try:\n",
    "    candidate_tables = pd.read_html(html_data)\n",
    "except Exception:\n",
    "    candidate_tables = []\n",
    "\n",
    "gme_revenue = None\n",
    "\n",
    "# Search candidate tables for a Revenue-like column or GameStop/GME in values\n",
    "for df in candidate_tables:\n",
    "    cols = [str(c).lower() for c in df.columns]\n",
    "    # Flexible matching for 'revenue' in columns or 'gme'/'gamestop' in values\n",
    "    if any(\"revenue\" in c for c in cols) or \\\n",
    "       any(\"gme\" in str(v).lower() or \"gamestop\" in str(v).lower() for v in df.values.flatten() if isinstance(v, str)):\n",
    "        gme_revenue = df.copy()\n",
    "        break\n",
    "\n",
    "# Fallback: Try to extract from plain text if not found\n",
    "if gme_revenue is None:\n",
    "    text = soup.get_text(separator=\"\\n\")\n",
    "    start_idx = text.find(\"GameStop Quarterly Revenue\")\n",
    "    if start_idx != -1:\n",
    "        block = text[start_idx:start_idx + 8000]\n",
    "        matches = re.findall(r\"(\\d{4}-\\d{2}-\\d{2})\\s+\\$?([\\d,]+)\", block)\n",
    "        if matches:\n",
    "            gme_revenue = pd.DataFrame(matches, columns=[\"Date\", \"Revenue\"])\n",
    "            gme_revenue[\"Revenue\"] = gme_revenue[\"Revenue\"].str.replace(\",\", \"\").astype(int)\n",
    "            gme_revenue[\"Date\"] = pd.to_datetime(gme_revenue[\"Date\"])\n",
    "\n",
    "if gme_revenue is not None:\n",
    "    print(\"✅ Found GME revenue (preview):\")\n",
    "    print(gme_revenue.tail())\n",
    "else:\n",
    "    print(\"❌ GME Revenue DataFrame not found. (Checked pd.read_html and text fallback)\")"
   ]
  },
  {
   "cell_type": "markdown",
   "id": "98bcdddc",
   "metadata": {},
   "source": [
    "## 📊 Tesla Stock & Revenue Dashboard\n",
    "\n",
    "This section visualizes Tesla’s stock prices alongside its revenue data.  \n",
    "Stock trends and revenue figures are displayed together to provide a combined view of company performance.\n"
   ]
  },
  {
   "cell_type": "code",
   "execution_count": 7,
   "id": "727490b4",
   "metadata": {},
   "outputs": [],
   "source": [
    "# function to plot stock data\n",
    "def make_graph(data, title):\n",
    "    plt.figure(figsize=(12,6))\n",
    "    plt.plot(data['Date'], data['Close'], label='Close Price')\n",
    "    plt.xlabel('Date')\n",
    "    plt.ylabel('Close Price (USD)')\n",
    "    plt.title(title)\n",
    "    plt.legend()\n",
    "    plt.show()"
   ]
  },
  {
   "cell_type": "code",
   "execution_count": 8,
   "id": "b39ff7a9",
   "metadata": {},
   "outputs": [
    {
     "data": {
      "image/png": "[encoded data removed]",
      "text/plain": [
       "<Figure size 1200x600 with 1 Axes>"
      ]
     },
     "metadata": {},
     "output_type": "display_data"
    }
   ],
   "source": [
    "make_graph(tesla_data, 'Tesla Stock Price History')"
   ]
  },
  {
   "cell_type": "markdown",
   "id": "97d94012",
   "metadata": {},
   "source": [
    "## 📊 GameStop Stock & Revenue Dashboard\n",
    "\n",
    "This section presents visualizations that combine GameStop’s historical stock prices and revenue data.  \n",
    "The goal is to show both metrics in a single view for easier comparison.\n"
   ]
  },
  {
   "cell_type": "code",
   "execution_count": 9,
   "id": "27bb423e",
   "metadata": {},
   "outputs": [
    {
     "data": {
      "image/png": "[encoded data removed]",
      "text/plain": [
       "<Figure size 1200x600 with 1 Axes>"
      ]
     },
     "metadata": {},
     "output_type": "display_data"
    }
   ],
   "source": [
    "make_graph(gme_data, 'GameStop Stock Price History')"
   ]
  },
  {
   "cell_type": "markdown",
   "id": "455c4461",
   "metadata": {},
   "source": [
    "## 🧾 Summary & Conclusion\n",
    "\n",
    "This project demonstrated the process of gathering, cleaning, and visualizing stock and revenue data for two distinct companies — **Tesla (TSLA)** and **GameStop (GME)**.  \n",
    "\n",
    "By combining financial data from APIs (`yfinance`) and publicly available web sources, we built a unified view of both companies’ performance trends over time.\n",
    "\n",
    "Key takeaways:\n",
    "- Historical stock prices were successfully extracted and visualized, showing clear differences in market behavior.  \n",
    "- Revenue data was obtained and structured for comparison alongside stock data.  \n",
    "- The dashboards offer a compact visual summary of each company’s trajectory.  \n",
    "\n",
    "This notebook serves as a **reusable framework** for financial analytics within the **RFix repository**, showcasing how Python can be used to integrate market data and business fundamentals into clear, data-driven insights.  "
   ]
  }
 ],
 "metadata": {
  "kernelspec": {
   "display_name": "Python 3",
   "language": "python",
   "name": "python3"
  },
  "language_info": {
   "codemirror_mode": {
    "name": "ipython",
    "version": 3
   },
   "file_extension": ".py",
   "mimetype": "text/x-python",
   "name": "python",
   "nbconvert_exporter": "python",
   "pygments_lexer": "ipython3",
   "version": "3.11.9"
  }
 },
 "nbformat": 4,
 "nbformat_minor": 5
}
